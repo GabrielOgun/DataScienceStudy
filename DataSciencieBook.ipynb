{
  "nbformat": 4,
  "nbformat_minor": 0,
  "metadata": {
    "colab": {
      "provenance": [],
      "authorship_tag": "ABX9TyMDwFzpyyHR1pftlzpxGoxd",
      "include_colab_link": true
    },
    "kernelspec": {
      "name": "python3",
      "display_name": "Python 3"
    },
    "language_info": {
      "name": "python"
    }
  },
  "cells": [
    {
      "cell_type": "markdown",
      "metadata": {
        "id": "view-in-github",
        "colab_type": "text"
      },
      "source": [
        "<a href=\"https://colab.research.google.com/github/GabrielOgun/DataScienceStudy/blob/main/DataSciencieBook.ipynb\" target=\"_parent\"><img src=\"https://colab.research.google.com/assets/colab-badge.svg\" alt=\"Open In Colab\"/></a>"
      ]
    },
    {
      "cell_type": "markdown",
      "source": [
        "Notebook destinado ao estudo e testes para o livro:\n",
        "\n",
        "\n",
        "**Data Sciencie do Zero, Noçoes Fundamentais com Python**\n",
        "\n",
        "-Joel Grus\n",
        "\n",
        " \"Os circuitos de consagração social serão tanto mais eficaz quanto maior a distância social do objeto consagrado\"  -Algum professor frances do Clovis de barros"
      ],
      "metadata": {
        "id": "63h77I27jVV1"
      }
    },
    {
      "cell_type": "markdown",
      "source": [
        "Blog do autor: https://joelgrus.com/\n",
        "\n",
        "twitter do autor: twitter.com/joelgrus/\n",
        "\n",
        "Material complementar: https://github.com/joelgrus/data-science-from-scratch"
      ],
      "metadata": {
        "id": "DuiTRFM-mFI_"
      }
    },
    {
      "cell_type": "markdown",
      "source": [
        "Introdução:\n",
        "\n",
        "o livro propoe que um cientista de dados precisa 3 tipos de conhecimentos:\n",
        "\n",
        "Habilidade de hacker;\n",
        "\n",
        "Conhecimentos de estatiscas e matematica;\n",
        "\n",
        "experiencia substancial;\n",
        "\n",
        "o livro foca nos dois primeiros pois o terceiro necessita de uma abordagem maior.\n",
        "\n",
        "---------\n",
        "\n",
        "para instroduzir ao mundo da ciencia de dados é proposto um exemplo pratico, trabalhar com os dados de uma rede social ficticia de cietistas de dados\n",
        "\n",
        "Por motivos de estudo, apenas vou escrever os conceitos que somos introduzidos nesse primeiro capitulo:\n",
        "\n",
        "Conectores-chave:\n",
        "\n",
        "Datadump: lista em que cada usuario é representado por um dict, que contem o seu id e seu name\n",
        "\n",
        "dict:Diretório de Identificadores de Contas Transacionais\n",
        "\n",
        "Centralidade de grau: O grau de centralidade da rede representa o número de linhas incidentes em um vértice do grafo, ou seja, o número de conexões diretas que um determinado ator estabelece dentro de sua rede.\n",
        "\n",
        "\n",
        "\n"
      ],
      "metadata": {
        "id": "rGh54gyBKSew"
      }
    },
    {
      "cell_type": "code",
      "execution_count": null,
      "metadata": {
        "id": "wwvCwDXqjN7A"
      },
      "outputs": [],
      "source": []
    }
  ]
}